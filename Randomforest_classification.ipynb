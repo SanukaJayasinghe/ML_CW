{
 "cells": [
  {
   "cell_type": "code",
   "execution_count": 6,
   "id": "9405dfd4-d33d-4680-80e9-bc463f11cec0",
   "metadata": {},
   "outputs": [],
   "source": [
    "import pandas as pd\n",
    "from sklearn.model_selection import train_test_split\n",
    "from sklearn.ensemble import RandomForestClassifier\n",
    "from sklearn.metrics import accuracy_score"
   ]
  },
  {
   "cell_type": "code",
   "execution_count": 4,
   "id": "d28daa73-8cd0-40c7-98fd-642fb708439f",
   "metadata": {},
   "outputs": [],
   "source": [
    "data = pd.read_csv(\"preprocessed.csv\")"
   ]
  },
  {
   "cell_type": "code",
   "execution_count": 5,
   "id": "0c6665d7-0178-4fc3-bc61-7ae81f6af55a",
   "metadata": {},
   "outputs": [
    {
     "data": {
      "text/html": [
       "<div>\n",
       "<style scoped>\n",
       "    .dataframe tbody tr th:only-of-type {\n",
       "        vertical-align: middle;\n",
       "    }\n",
       "\n",
       "    .dataframe tbody tr th {\n",
       "        vertical-align: top;\n",
       "    }\n",
       "\n",
       "    .dataframe thead th {\n",
       "        text-align: right;\n",
       "    }\n",
       "</style>\n",
       "<table border=\"1\" class=\"dataframe\">\n",
       "  <thead>\n",
       "    <tr style=\"text-align: right;\">\n",
       "      <th></th>\n",
       "      <th>age</th>\n",
       "      <th>le_workclass</th>\n",
       "      <th>le_education</th>\n",
       "      <th>Education_Num</th>\n",
       "      <th>le_occupation</th>\n",
       "      <th>le_race</th>\n",
       "      <th>le_sex</th>\n",
       "      <th>Capital_Gain</th>\n",
       "      <th>Capital_Loss</th>\n",
       "      <th>Hours_per_Week</th>\n",
       "      <th>le_country</th>\n",
       "      <th>le_income</th>\n",
       "    </tr>\n",
       "  </thead>\n",
       "  <tbody>\n",
       "    <tr>\n",
       "      <th>0</th>\n",
       "      <td>39</td>\n",
       "      <td>5</td>\n",
       "      <td>9</td>\n",
       "      <td>13</td>\n",
       "      <td>0</td>\n",
       "      <td>4</td>\n",
       "      <td>1</td>\n",
       "      <td>2174</td>\n",
       "      <td>0</td>\n",
       "      <td>40</td>\n",
       "      <td>39</td>\n",
       "      <td>0</td>\n",
       "    </tr>\n",
       "    <tr>\n",
       "      <th>1</th>\n",
       "      <td>50</td>\n",
       "      <td>4</td>\n",
       "      <td>9</td>\n",
       "      <td>13</td>\n",
       "      <td>3</td>\n",
       "      <td>4</td>\n",
       "      <td>1</td>\n",
       "      <td>0</td>\n",
       "      <td>0</td>\n",
       "      <td>13</td>\n",
       "      <td>39</td>\n",
       "      <td>0</td>\n",
       "    </tr>\n",
       "    <tr>\n",
       "      <th>2</th>\n",
       "      <td>38</td>\n",
       "      <td>2</td>\n",
       "      <td>11</td>\n",
       "      <td>9</td>\n",
       "      <td>5</td>\n",
       "      <td>4</td>\n",
       "      <td>1</td>\n",
       "      <td>0</td>\n",
       "      <td>0</td>\n",
       "      <td>40</td>\n",
       "      <td>39</td>\n",
       "      <td>0</td>\n",
       "    </tr>\n",
       "    <tr>\n",
       "      <th>3</th>\n",
       "      <td>53</td>\n",
       "      <td>2</td>\n",
       "      <td>1</td>\n",
       "      <td>7</td>\n",
       "      <td>5</td>\n",
       "      <td>2</td>\n",
       "      <td>1</td>\n",
       "      <td>0</td>\n",
       "      <td>0</td>\n",
       "      <td>40</td>\n",
       "      <td>39</td>\n",
       "      <td>0</td>\n",
       "    </tr>\n",
       "    <tr>\n",
       "      <th>4</th>\n",
       "      <td>28</td>\n",
       "      <td>2</td>\n",
       "      <td>9</td>\n",
       "      <td>13</td>\n",
       "      <td>9</td>\n",
       "      <td>2</td>\n",
       "      <td>0</td>\n",
       "      <td>0</td>\n",
       "      <td>0</td>\n",
       "      <td>40</td>\n",
       "      <td>5</td>\n",
       "      <td>0</td>\n",
       "    </tr>\n",
       "  </tbody>\n",
       "</table>\n",
       "</div>"
      ],
      "text/plain": [
       "   age  le_workclass  le_education  Education_Num  le_occupation  le_race  \\\n",
       "0   39             5             9             13              0        4   \n",
       "1   50             4             9             13              3        4   \n",
       "2   38             2            11              9              5        4   \n",
       "3   53             2             1              7              5        2   \n",
       "4   28             2             9             13              9        2   \n",
       "\n",
       "   le_sex  Capital_Gain  Capital_Loss  Hours_per_Week  le_country  le_income  \n",
       "0       1          2174             0              40          39          0  \n",
       "1       1             0             0              13          39          0  \n",
       "2       1             0             0              40          39          0  \n",
       "3       1             0             0              40          39          0  \n",
       "4       0             0             0              40           5          0  "
      ]
     },
     "execution_count": 5,
     "metadata": {},
     "output_type": "execute_result"
    }
   ],
   "source": [
    "data.head()"
   ]
  },
  {
   "cell_type": "code",
   "execution_count": 7,
   "id": "7418a2a0-1223-4f19-b2e8-e09f5d6baf8e",
   "metadata": {},
   "outputs": [
    {
     "name": "stdout",
     "output_type": "stream",
     "text": [
      "Accuracy: 0.8273053111762789\n"
     ]
    }
   ],
   "source": [
    "# Assuming your dataset is loaded into a DataFrame named data\n",
    "# data = pd.read_csv(\"your_dataset.csv\")\n",
    "\n",
    "# Separate features and target variable\n",
    "features = data[[\"age\", \"le_workclass\", \"le_education\", \"Education_Num\", \"le_occupation\", \n",
    "               \"le_race\", \"le_sex\", \"Capital_Gain\", \"Capital_Loss\", \"Hours_per_Week\", \n",
    "               \"le_country\"]]\n",
    "target = data[\"le_income\"]\n",
    "\n",
    "# Split the data into training and testing sets\n",
    "X_train, X_test, y_train, y_test = train_test_split(features, target, test_size=0.2, random_state=42)\n",
    "\n",
    "# Initialize the Random Forest Classifier\n",
    "rf_classifier = RandomForestClassifier(n_estimators=100, random_state=42)\n",
    "\n",
    "# Train the model\n",
    "rf_classifier.fit(X_train, y_train)\n",
    "\n",
    "# Predict on the testing set\n",
    "y_pred = rf_classifier.predict(X_test)\n",
    "\n",
    "# Calculate accuracy\n",
    "accuracy = accuracy_score(y_test, y_pred)\n",
    "print(\"Accuracy:\", accuracy)\n"
   ]
  },
  {
   "cell_type": "code",
   "execution_count": 8,
   "id": "41b4f450-82ea-4264-8962-5182d33324c4",
   "metadata": {},
   "outputs": [
    {
     "name": "stdout",
     "output_type": "stream",
     "text": [
      "Prediction Accuracy: 0.8273053111762789\n",
      "Training Accuracy: 0.9579916363438875\n"
     ]
    }
   ],
   "source": [
    "# Calculate prediction accuracy\n",
    "prediction_accuracy = accuracy_score(y_test, y_pred)\n",
    "print(\"Prediction Accuracy:\", prediction_accuracy)\n",
    "\n",
    "# Predict on the training set\n",
    "y_train_pred = rf_classifier.predict(X_train)\n",
    "\n",
    "# Calculate training accuracy\n",
    "training_accuracy = accuracy_score(y_train, y_train_pred)\n",
    "print(\"Training Accuracy:\", training_accuracy)"
   ]
  },
  {
   "cell_type": "code",
   "execution_count": 9,
   "id": "95469842-8d7a-4442-abae-9d56d444dda6",
   "metadata": {},
   "outputs": [
    {
     "name": "stdout",
     "output_type": "stream",
     "text": [
      "Best Parameters: {'max_depth': 20, 'min_samples_leaf': 4, 'min_samples_split': 10, 'n_estimators': 100}\n",
      "Prediction Accuracy: 0.8462039752362333\n"
     ]
    }
   ],
   "source": [
    "import pandas as pd\n",
    "from sklearn.model_selection import train_test_split, GridSearchCV\n",
    "from sklearn.ensemble import RandomForestClassifier\n",
    "from sklearn.metrics import accuracy_score\n",
    "\n",
    "# Assuming your dataset is loaded into a DataFrame named data\n",
    "# data = pd.read_csv(\"your_dataset.csv\")\n",
    "\n",
    "# Separate features and target variable\n",
    "features = data[[\"age\", \"le_workclass\", \"le_education\", \"Education_Num\", \"le_occupation\", \n",
    "               \"le_race\", \"le_sex\", \"Capital_Gain\", \"Capital_Loss\", \"Hours_per_Week\", \n",
    "               \"le_country\"]]\n",
    "target = data[\"le_income\"]\n",
    "\n",
    "# Split the data into training and testing sets\n",
    "X_train, X_test, y_train, y_test = train_test_split(features, target, test_size=0.2, random_state=42)\n",
    "\n",
    "# Define the parameter grid to search\n",
    "param_grid = {\n",
    "    'n_estimators': [50, 100, 200],\n",
    "    'max_depth': [None, 10, 20],\n",
    "    'min_samples_split': [2, 5, 10],\n",
    "    'min_samples_leaf': [1, 2, 4]\n",
    "}\n",
    "\n",
    "# Initialize the Random Forest Classifier\n",
    "rf_classifier = RandomForestClassifier(random_state=42)\n",
    "\n",
    "# Initialize Grid Search Cross Validation\n",
    "grid_search = GridSearchCV(estimator=rf_classifier, param_grid=param_grid, cv=3, n_jobs=-1, scoring='accuracy')\n",
    "\n",
    "# Perform Grid Search Cross Validation\n",
    "grid_search.fit(X_train, y_train)\n",
    "\n",
    "# Get the best parameters found by Grid Search\n",
    "best_params = grid_search.best_params_\n",
    "print(\"Best Parameters:\", best_params)\n",
    "\n",
    "# Predict on the testing set using the best model\n",
    "best_rf_classifier = grid_search.best_estimator_\n",
    "y_pred = best_rf_classifier.predict(X_test)\n",
    "\n",
    "# Calculate prediction accuracy\n",
    "prediction_accuracy = accuracy_score(y_test, y_pred)\n",
    "print(\"Prediction Accuracy:\", prediction_accuracy)\n"
   ]
  },
  {
   "cell_type": "code",
   "execution_count": 11,
   "id": "8a4f09e5-1c67-467c-890e-4c8349c27539",
   "metadata": {},
   "outputs": [
    {
     "name": "stdout",
     "output_type": "stream",
     "text": [
      "Prediction Accuracy: 0.8462039752362333\n",
      "Training Accuracy: 0.8675663933090751\n"
     ]
    }
   ],
   "source": [
    "# Calculate prediction accuracy\n",
    "prediction_accuracy = accuracy_score(y_test, y_pred)\n",
    "print(\"Prediction Accuracy:\", prediction_accuracy)\n",
    "\n",
    "# Predict on the training set\n",
    "y_train_pred = best_rf_classifier.predict(X_train)\n",
    "\n",
    "# Calculate training accuracy\n",
    "training_accuracy = accuracy_score(y_train, y_train_pred)\n",
    "print(\"Training Accuracy:\", training_accuracy)"
   ]
  },
  {
   "cell_type": "code",
   "execution_count": 12,
   "id": "d5ff1cbd-bee7-427b-a1f3-abdc65bf02f3",
   "metadata": {},
   "outputs": [
    {
     "name": "stdout",
     "output_type": "stream",
     "text": [
      "Classification Report:\n",
      "               precision    recall  f1-score   support\n",
      "\n",
      "           0       0.86      0.95      0.90      6933\n",
      "           1       0.78      0.53      0.63      2274\n",
      "\n",
      "    accuracy                           0.85      9207\n",
      "   macro avg       0.82      0.74      0.77      9207\n",
      "weighted avg       0.84      0.85      0.84      9207\n",
      "\n",
      "Confusion Matrix:\n",
      " [[6596  337]\n",
      " [1079 1195]]\n"
     ]
    }
   ],
   "source": [
    "from sklearn.metrics import accuracy_score, classification_report, confusion_matrix\n",
    "\n",
    "class_report = classification_report(y_test, y_pred)\n",
    "print(\"Classification Report:\\n\", class_report)\n",
    "\n",
    "# Generate confusion matrix\n",
    "conf_matrix = confusion_matrix(y_test, y_pred)\n",
    "print(\"Confusion Matrix:\\n\", conf_matrix)"
   ]
  }
 ],
 "metadata": {
  "kernelspec": {
   "display_name": "Python 3 (ipykernel)",
   "language": "python",
   "name": "python3"
  },
  "language_info": {
   "codemirror_mode": {
    "name": "ipython",
    "version": 3
   },
   "file_extension": ".py",
   "mimetype": "text/x-python",
   "name": "python",
   "nbconvert_exporter": "python",
   "pygments_lexer": "ipython3",
   "version": "3.11.5"
  }
 },
 "nbformat": 4,
 "nbformat_minor": 5
}
